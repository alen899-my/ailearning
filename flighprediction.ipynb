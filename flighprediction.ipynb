{
 "cells": [
  {
   "cell_type": "code",
   "execution_count": null,
   "id": "c9e7bb46",
   "metadata": {},
   "outputs": [],
   "source": [
    "#basic libraries\n",
    "import pandas as pd\n",
    "import numpy as np\n",
    "import matplotlib.pyplot as plt\n",
    "import seaborn as sns"
   ]
  },
  {
   "cell_type": "code",
   "execution_count": null,
   "id": "a83b2bb6",
   "metadata": {},
   "outputs": [],
   "source": [
    "!pip install openpyxl"
   ]
  },
  {
   "cell_type": "code",
   "execution_count": null,
   "id": "7dc2a610",
   "metadata": {},
   "outputs": [],
   "source": [
    "data=pd.read_excel(\"flight_price.xlsx\")\n",
    "data.head()"
   ]
  },
  {
   "cell_type": "code",
   "execution_count": null,
   "id": "b343d240",
   "metadata": {},
   "outputs": [],
   "source": [
    "data.tail()"
   ]
  },
  {
   "cell_type": "code",
   "execution_count": null,
   "id": "48e42934",
   "metadata": {},
   "outputs": [],
   "source": [
    "#get basic info\n",
    "data.info()"
   ]
  },
  {
   "cell_type": "code",
   "execution_count": null,
   "id": "8b7a9b50",
   "metadata": {},
   "outputs": [],
   "source": [
    "data.describe()"
   ]
  },
  {
   "cell_type": "code",
   "execution_count": null,
   "id": "93c0a645",
   "metadata": {},
   "outputs": [],
   "source": [
    "#handle date\n",
    "data[\"Date\"]=data[\"Date_of_Journey\"].str.split(\"/\").str[0]"
   ]
  },
  {
   "cell_type": "code",
   "execution_count": null,
   "id": "5651ba40",
   "metadata": {},
   "outputs": [],
   "source": [
    "data[\"Date\"]"
   ]
  },
  {
   "cell_type": "code",
   "execution_count": null,
   "id": "372c6e45",
   "metadata": {},
   "outputs": [],
   "source": [
    "#month\n",
    "data[\"Month\"]=data[\"Date_of_Journey\"].str.split(\"/\").str[1]"
   ]
  },
  {
   "cell_type": "code",
   "execution_count": null,
   "id": "55908a8f",
   "metadata": {},
   "outputs": [],
   "source": [
    "#year\n",
    "data[\"Year\"]=data[\"Date_of_Journey\"].str.split(\"/\").str[2]"
   ]
  },
  {
   "cell_type": "code",
   "execution_count": null,
   "id": "fa828f6a",
   "metadata": {},
   "outputs": [],
   "source": [
    "data.head()"
   ]
  },
  {
   "cell_type": "code",
   "execution_count": null,
   "id": "15a5804e",
   "metadata": {},
   "outputs": [],
   "source": [
    "#convert too date format\n",
    "\n",
    "data[\"Date\"]=data[\"Date\"].astype(int)\n",
    "data[\"Month\"]=data[\"Month\"].astype(int)\n",
    "data[\"Year\"]=data[\"Year\"].astype(int)\n"
   ]
  },
  {
   "cell_type": "code",
   "execution_count": null,
   "id": "5e62c272",
   "metadata": {},
   "outputs": [],
   "source": [
    "data.info()"
   ]
  },
  {
   "cell_type": "code",
   "execution_count": null,
   "id": "b523f265",
   "metadata": {},
   "outputs": [],
   "source": [
    "data.drop(\"Date_of_Journey\",axis=1,inplace=True)"
   ]
  },
  {
   "cell_type": "code",
   "execution_count": null,
   "id": "cba5730e",
   "metadata": {},
   "outputs": [],
   "source": [
    "data.info()"
   ]
  },
  {
   "cell_type": "code",
   "execution_count": null,
   "id": "322c77a6",
   "metadata": {},
   "outputs": [],
   "source": [
    "#split month\n",
    "data[\"Arrival_Time\"]=data[\"Arrival_Time\"].apply(lambda x:x.split(' ')[0])"
   ]
  },
  {
   "cell_type": "code",
   "execution_count": null,
   "id": "1092fd20",
   "metadata": {},
   "outputs": [],
   "source": [
    "data[\"hour\"]=data[\"Arrival_Time\"].str.split(\":\").str[0]\n",
    "data[\"minute\"]=data[\"Arrival_Time\"].str.split(\":\").str[1]"
   ]
  },
  {
   "cell_type": "code",
   "execution_count": null,
   "id": "6559ba69",
   "metadata": {},
   "outputs": [],
   "source": [
    "data.head(2)"
   ]
  },
  {
   "cell_type": "code",
   "execution_count": null,
   "id": "647da0f9",
   "metadata": {},
   "outputs": [],
   "source": [
    "#convert to integer\n",
    "data[\"hour\"]=data[\"hour\"].astype(int)\n",
    "data[\"minute\"]=data[\"minute\"].astype(int)"
   ]
  },
  {
   "cell_type": "code",
   "execution_count": null,
   "id": "b7561db0",
   "metadata": {},
   "outputs": [],
   "source": [
    "data.info()"
   ]
  },
  {
   "cell_type": "code",
   "execution_count": null,
   "id": "2fbe3600",
   "metadata": {},
   "outputs": [],
   "source": [
    "data.drop(\"Arrival_Time\",axis=1,inplace=True)"
   ]
  },
  {
   "cell_type": "code",
   "execution_count": null,
   "id": "221607ae",
   "metadata": {},
   "outputs": [],
   "source": [
    "data.info()"
   ]
  },
  {
   "cell_type": "code",
   "execution_count": null,
   "id": "af35bb92",
   "metadata": {},
   "outputs": [],
   "source": [
    "data.head(1)"
   ]
  },
  {
   "cell_type": "code",
   "execution_count": null,
   "id": "f5b7d83b",
   "metadata": {},
   "outputs": [],
   "source": [
    "data=data.rename(columns={\"hour\":\"Arrival_hour\",\"minute\":\"Arrival_minute\"})"
   ]
  },
  {
   "cell_type": "code",
   "execution_count": null,
   "id": "da5a164a",
   "metadata": {},
   "outputs": [],
   "source": [
    "data.head(1)"
   ]
  },
  {
   "cell_type": "code",
   "execution_count": null,
   "id": "8f150627",
   "metadata": {},
   "outputs": [],
   "source": [
    "data[\"Dept_hour\"]=data[\"Dep_Time\"].str.split(\":\").str[0]\n",
    "data[\"Dept_minute\"]=data[\"Dep_Time\"].str.split(\":\").str[1]"
   ]
  },
  {
   "cell_type": "code",
   "execution_count": null,
   "id": "cb003b66",
   "metadata": {},
   "outputs": [],
   "source": [
    "#convert to integer\n",
    "data[\"Dept_hour\"]=data[\"Dept_hour\"].astype(int)\n",
    "data[\"Dept_minute\"]=data[\"Dept_minute\"].astype(int)"
   ]
  },
  {
   "cell_type": "code",
   "execution_count": null,
   "id": "45ef8272",
   "metadata": {},
   "outputs": [],
   "source": [
    "data.info()"
   ]
  },
  {
   "cell_type": "code",
   "execution_count": null,
   "id": "51a84f97",
   "metadata": {},
   "outputs": [],
   "source": [
    "data.drop(columns=\"Dep_Time\",axis=1,inplace=True)"
   ]
  },
  {
   "cell_type": "code",
   "execution_count": null,
   "id": "ef5abe2e",
   "metadata": {},
   "outputs": [],
   "source": [
    "data.info()"
   ]
  },
  {
   "cell_type": "code",
   "execution_count": null,
   "id": "8adb8dbb",
   "metadata": {},
   "outputs": [],
   "source": [
    "data.head()"
   ]
  },
  {
   "cell_type": "code",
   "execution_count": null,
   "id": "2112b4cc",
   "metadata": {},
   "outputs": [],
   "source": [
    "#categoriacal Total stopes\n",
    "data.info()"
   ]
  },
  {
   "cell_type": "code",
   "execution_count": null,
   "id": "27d956ca",
   "metadata": {},
   "outputs": [],
   "source": [
    "data[\"Total_Stops\"].unique()"
   ]
  },
  {
   "cell_type": "code",
   "execution_count": null,
   "id": "082aef35",
   "metadata": {},
   "outputs": [],
   "source": [
    "data[data[\"Total_Stops\"].isnull()]"
   ]
  },
  {
   "cell_type": "code",
   "execution_count": null,
   "id": "753072a4",
   "metadata": {},
   "outputs": [],
   "source": [
    "data[\"Total_Stops\"]=data[\"Total_Stops\"].map({\"non-stop\":0,\"1 stop\":1,\"2 stops\":2,\"3 stops\":3,\"4 stops\":4,np.nan:1})"
   ]
  },
  {
   "cell_type": "code",
   "execution_count": null,
   "id": "f10a5380",
   "metadata": {},
   "outputs": [],
   "source": [
    "data[\"Total_Stops\"]"
   ]
  },
  {
   "cell_type": "code",
   "execution_count": null,
   "id": "eb0c7eff",
   "metadata": {},
   "outputs": [],
   "source": [
    "data.drop(columns=\"Route\",axis=1,inplace=True)"
   ]
  },
  {
   "cell_type": "code",
   "execution_count": null,
   "id": "90262a56",
   "metadata": {},
   "outputs": [],
   "source": [
    "data.info()"
   ]
  },
  {
   "cell_type": "code",
   "execution_count": null,
   "id": "ea0d7480",
   "metadata": {},
   "outputs": [],
   "source": [
    "data.head(10)"
   ]
  },
  {
   "cell_type": "code",
   "execution_count": null,
   "id": "e24b6975",
   "metadata": {},
   "outputs": [],
   "source": [
    "data[\"Hour_duration\"]=data[\"Duration\"].str.split(\" \").str[0].str.split(\"h\").str[0]"
   ]
  },
  {
   "cell_type": "code",
   "execution_count": null,
   "id": "7730237a",
   "metadata": {},
   "outputs": [],
   "source": [
    "data.drop(\"Hour_duration\",axis=1,inplace=True)"
   ]
  },
  {
   "cell_type": "code",
   "execution_count": null,
   "id": "61301126",
   "metadata": {},
   "outputs": [],
   "source": [
    "data[\"Minute_duration\"]=data[\"Duration\"].str.extract(r'(\\d+)m').fillna(0).astype(int)"
   ]
  },
  {
   "cell_type": "code",
   "execution_count": null,
   "id": "348b5757",
   "metadata": {},
   "outputs": [],
   "source": [
    "data[\"Hour_duration\"]=data[\"Duration\"].str.extract(r\"(\\d+)h\").fillna(0).astype(int)"
   ]
  },
  {
   "cell_type": "code",
   "execution_count": null,
   "id": "73743885",
   "metadata": {},
   "outputs": [],
   "source": [
    "data[[\"Hour_duration\",\"Minute_duration\"]]"
   ]
  },
  {
   "cell_type": "code",
   "execution_count": null,
   "id": "17c1bad9",
   "metadata": {},
   "outputs": [],
   "source": [
    "data[\"Airline\"].unique()"
   ]
  },
  {
   "cell_type": "code",
   "execution_count": null,
   "id": "daabf65e",
   "metadata": {},
   "outputs": [],
   "source": [
    "from sklearn.preprocessing import OneHotEncoder"
   ]
  },
  {
   "cell_type": "code",
   "execution_count": null,
   "id": "109c43cf",
   "metadata": {},
   "outputs": [],
   "source": [
    "encoder=OneHotEncoder()"
   ]
  },
  {
   "cell_type": "code",
   "execution_count": null,
   "id": "f9bf444c",
   "metadata": {},
   "outputs": [],
   "source": [
    "encoded=encoder.fit_transform(data[[\"Airline\",\"Source\",\"Destination\"]]).toarray()\n"
   ]
  },
  {
   "cell_type": "code",
   "execution_count": null,
   "id": "b98fc18f",
   "metadata": {},
   "outputs": [],
   "source": [
    "encoded"
   ]
  },
  {
   "cell_type": "code",
   "execution_count": null,
   "id": "a053ca90",
   "metadata": {},
   "outputs": [],
   "source": [
    "pd.DataFrame(encoded,columns=encoder.get_feature_names_out())"
   ]
  },
  {
   "cell_type": "code",
   "execution_count": null,
   "id": "0b503558",
   "metadata": {},
   "outputs": [],
   "source": [
    "final_Data=pd.concat([data,pd.DataFrame(encoded,columns=encoder.get_feature_names_out())],axis=1)"
   ]
  },
  {
   "cell_type": "code",
   "execution_count": null,
   "id": "087d2be8",
   "metadata": {},
   "outputs": [],
   "source": [
    "final_Data.drop(columns=[\"Airline\",\"Source\",\"Destination\",\"Duration\"],axis=1,inplace=True)"
   ]
  },
  {
   "cell_type": "code",
   "execution_count": null,
   "id": "2fa649cd",
   "metadata": {},
   "outputs": [],
   "source": [
    "final_Data.drop(\"Additional_Info\",axis=1,inplace=True)\n"
   ]
  },
  {
   "cell_type": "code",
   "execution_count": null,
   "id": "ce91dc43",
   "metadata": {},
   "outputs": [],
   "source": [
    "final_Data\n",
    "final_Data.info()\n",
    "final_Data.describe()"
   ]
  }
 ],
 "metadata": {
  "kernelspec": {
   "display_name": "Python 3",
   "language": "python",
   "name": "python3"
  },
  "language_info": {
   "codemirror_mode": {
    "name": "ipython",
    "version": 3
   },
   "file_extension": ".py",
   "mimetype": "text/x-python",
   "name": "python",
   "nbconvert_exporter": "python",
   "pygments_lexer": "ipython3",
   "version": "3.13.3"
  }
 },
 "nbformat": 4,
 "nbformat_minor": 5
}
