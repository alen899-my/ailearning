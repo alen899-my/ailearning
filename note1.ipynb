{
 "cells": [
  {
   "cell_type": "code",
   "execution_count": null,
   "id": "7d7e3b0e",
   "metadata": {},
   "outputs": [],
   "source": [
    "!pip install seaborn"
   ]
  },
  {
   "cell_type": "code",
   "execution_count": null,
   "id": "627dd681",
   "metadata": {},
   "outputs": [],
   "source": [
    "import seaborn as sns\n"
   ]
  },
  {
   "cell_type": "code",
   "execution_count": null,
   "id": "94da8405",
   "metadata": {},
   "outputs": [],
   "source": [
    "data=sns.load_dataset(\"tips\")"
   ]
  },
  {
   "cell_type": "code",
   "execution_count": null,
   "id": "9cd6051d",
   "metadata": {},
   "outputs": [],
   "source": [
    "data"
   ]
  },
  {
   "cell_type": "code",
   "execution_count": null,
   "id": "19745e93",
   "metadata": {},
   "outputs": [],
   "source": [
    "data[\"time\"].unique()"
   ]
  },
  {
   "cell_type": "code",
   "execution_count": null,
   "id": "ca087381",
   "metadata": {},
   "outputs": [],
   "source": [
    "mean_price=data.groupby(\"time\")[\"total_bill\"].mean()\n",
    "mean_price"
   ]
  },
  {
   "cell_type": "code",
   "execution_count": null,
   "id": "cb5c1ae7",
   "metadata": {},
   "outputs": [],
   "source": [
    "data[\"dinner_Encoded\"]=data[\"time\"].map(mean_price)\n",
    "data"
   ]
  },
  {
   "cell_type": "code",
   "execution_count": null,
   "id": "8661e3a5",
   "metadata": {},
   "outputs": [],
   "source": [
    "sex_mean=data.groupby(\"sex\")[\"total_bill\"].mean()\n",
    "sex_mean"
   ]
  },
  {
   "cell_type": "code",
   "execution_count": null,
   "id": "db867a9d",
   "metadata": {},
   "outputs": [],
   "source": [
    "data[\"sex_encoded\"]=data[\"sex\"].map(sex_mean)\n",
    "data"
   ]
  },
  {
   "cell_type": "code",
   "execution_count": null,
   "id": "e3d5f0e3",
   "metadata": {},
   "outputs": [],
   "source": [
    "!pip install sklearn"
   ]
  },
  {
   "cell_type": "code",
   "execution_count": null,
   "id": "84c96e09",
   "metadata": {},
   "outputs": [],
   "source": [
    "\n",
    "\n",
    "from sklearn.preprocessing import OneHotEncoder\n",
    "import pandas as pd\n",
    "encoder=OneHotEncoder()\n",
    "encoded=encoder.fit_transform(data[[\"smoker\"]]).toarray()\n",
    "dataframe=pd.DataFrame(encoded,columns=encoder.get_feature_names_out([\"smoker\"]))\n",
    "dataframe"
   ]
  },
  {
   "cell_type": "code",
   "execution_count": null,
   "id": "8900b20c",
   "metadata": {},
   "outputs": [],
   "source": [
    "data_Encoded=pd.concat([data,dataframe],axis=1)\n",
    "data_Encoded"
   ]
  },
  {
   "cell_type": "code",
   "execution_count": null,
   "id": "d09c9129",
   "metadata": {},
   "outputs": [],
   "source": [
    "import seaborn as sns\n",
    "import pandas as pd\n",
    "from sklearn.preprocessing import OneHotEncoder\n",
    "\n",
    "# Load tips dataset\n",
    "data = sns.load_dataset(\"tips\")\n",
    "\n",
    "# Initialize encoder\n",
    "encoder = OneHotEncoder()\n",
    "\n",
    "# Fit and transform 'smoker' column\n",
    "encoded = encoder.fit_transform(data[[\"smoker\"]]).toarray()\n",
    "\n",
    "# Create dataframe from encoded data\n",
    "encoded_df = pd.DataFrame(encoded, columns=encoder.get_feature_names_out([\"smoker\"]))\n",
    "\n",
    "# Concatenate original data with encoded columns\n",
    "data_with_encoded = pd.concat([data, encoded_df], axis=1)\n",
    "\n",
    "# Display result\n",
    "print(data_with_encoded.head())\n"
   ]
  },
  {
   "cell_type": "code",
   "execution_count": null,
   "id": "54410c12",
   "metadata": {},
   "outputs": [],
   "source": []
  },
  {
   "cell_type": "code",
   "execution_count": null,
   "id": "2f8fe3cf",
   "metadata": {},
   "outputs": [],
   "source": [
    "from sklearn.preprocessing import  LabelEncoder\n",
    "lbl_encoder=LabelEncoder()\n",
    "encoded_data_lbl=lbl_encoder.fit_transform(data[\"day\"])\n",
    "series=pd.Series(encoded_data_lbl,name=\"day_encoded\")\n",
    "final_data=pd.concat([data,series],axis=1)\n",
    "final_data\n"
   ]
  }
 ],
 "metadata": {
  "kernelspec": {
   "display_name": "Python 3",
   "language": "python",
   "name": "python3"
  },
  "language_info": {
   "codemirror_mode": {
    "name": "ipython",
    "version": 3
   },
   "file_extension": ".py",
   "mimetype": "text/x-python",
   "name": "python",
   "nbconvert_exporter": "python",
   "pygments_lexer": "ipython3",
   "version": "3.13.3"
  }
 },
 "nbformat": 4,
 "nbformat_minor": 5
}
